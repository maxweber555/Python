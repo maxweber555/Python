{
 "cells": [
  {
   "cell_type": "code",
   "execution_count": null,
   "id": "8dfced39",
   "metadata": {},
   "outputs": [],
   "source": [
    "mport requests\n",
    "from zipfile import ZipFile\n",
    "from io import BytesIO \n",
    "from bs4 import BeautifulSoup\n",
    "import re"
   ]
  },
  {
   "cell_type": "code",
   "execution_count": null,
   "id": "cfa8f511",
   "metadata": {},
   "outputs": [],
   "source": [
    "url = 'http://200.152.38.155/CNPJ/Cnaes.zip'"
   ]
  },
  {
   "cell_type": "code",
   "execution_count": null,
   "id": "f1c33c9b",
   "metadata": {},
   "outputs": [],
   "source": [
    "# Fazendo o dowload do arquivo\n",
    "response= requests.get(url)\n",
    "zip_file = ZipFile(BytesIO(response.content))"
   ]
  },
  {
   "cell_type": "code",
   "execution_count": null,
   "id": "13282da2",
   "metadata": {},
   "outputs": [],
   "source": [
    "# Especifica o diretório de destino para a extração\n",
    "extract_path = 'extraidos'"
   ]
  },
  {
   "cell_type": "code",
   "execution_count": null,
   "id": "845ac96d",
   "metadata": {},
   "outputs": [],
   "source": [
    "# Extrai todo o conteúdo do arquivo ZIP\n",
    "zip_file.extractall(extract_path)"
   ]
  },
  {
   "cell_type": "code",
   "execution_count": null,
   "id": "ecd1e662",
   "metadata": {},
   "outputs": [],
   "source": [
    "print(f'Arquivo ZIP extraído em: {extract_path}')"
   ]
  }
 ],
 "metadata": {
  "kernelspec": {
   "display_name": "Python 3 (ipykernel)",
   "language": "python",
   "name": "python3"
  },
  "language_info": {
   "codemirror_mode": {
    "name": "ipython",
    "version": 3
   },
   "file_extension": ".py",
   "mimetype": "text/x-python",
   "name": "python",
   "nbconvert_exporter": "python",
   "pygments_lexer": "ipython3",
   "version": "3.10.12"
  }
 },
 "nbformat": 4,
 "nbformat_minor": 5
}
