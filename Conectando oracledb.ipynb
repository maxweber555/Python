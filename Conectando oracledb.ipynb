{
 "cells": [
  {
   "cell_type": "code",
   "execution_count": null,
   "id": "70a9d4f7",
   "metadata": {},
   "outputs": [],
   "source": [
    "import getpass\n",
    "import oracledb\n"
   ]
  },
  {
   "cell_type": "code",
   "execution_count": null,
   "id": "12672c74",
   "metadata": {},
   "outputs": [],
   "source": [
    "un = 'usuario'\n",
    "cs= 'extring de conexao`\n",
    "pw = getpass.getpass(f'Sua Senha para {un}@{cs}: ')\n"
   ]
  },
  {
   "cell_type": "code",
   "execution_count": null,
   "id": "a1d8cb49",
   "metadata": {},
   "outputs": [],
   "source": [
    "dados =[]\n"
   ]
  },
  {
   "cell_type": "code",
   "execution_count": null,
   "id": "8dfbf3a9",
   "metadata": {},
   "outputs": [],
   "source": [
    "dados1=[]"
   ]
  },
  {
   "cell_type": "code",
   "execution_count": null,
   "id": "491e10c0",
   "metadata": {},
   "outputs": [],
   "source": [
    "dados1."
   ]
  },
  {
   "cell_type": "code",
   "execution_count": null,
   "id": "1b3585d2",
   "metadata": {},
   "outputs": [],
   "source": [
    "\n",
    "with oracledb.connect(user=un, password=pw, dsn=cs) as connection:\n",
    "    with connection.cursor() as cursor:\n",
    "        sql = \"\"\"SELECT * FROM TABELA\"\"\"\n",
    "        for r in cursor.execute(sql):\n",
    "            dados.append(r) \n",
    "            \n",
    "            print(r)"
   ]
  },
  {
   "cell_type": "code",
   "execution_count": null,
   "id": "5bdda3bb",
   "metadata": {},
   "outputs": [],
   "source": [
    "for i in dados:\n",
    "    print(i)"
   ]
  },
  {
   "cell_type": "code",
   "execution_count": null,
   "id": "94b642d8",
   "metadata": {},
   "outputs": [],
   "source": [
    "print (dados)"
   ]
  },
  {
   "cell_type": "code",
   "execution_count": null,
   "id": "19259ab1",
   "metadata": {},
   "outputs": [],
   "source": [
    "type(dados)"
   ]
  },
  {
   "cell_type": "code",
   "execution_count": null,
   "id": "37d18e74",
   "metadata": {},
   "outputs": [],
   "source": [
    "dados"
   ]
  },
  {
   "cell_type": "code",
   "execution_count": null,
   "id": "88c7b0dd",
   "metadata": {},
   "outputs": [],
   "source": [
    "dataset= pd.DataFrame(dados)"
   ]
  },
  {
   "cell_type": "code",
   "execution_count": null,
   "id": "eeefc32a",
   "metadata": {},
   "outputs": [],
   "source": [
    "print(dataset)"
   ]
  },
  {
   "cell_type": "code",
   "execution_count": null,
   "id": "e6e3f803",
   "metadata": {},
   "outputs": [],
   "source": [
    "dataset\n"
   ]
  },
  {
   "cell_type": "code",
   "execution_count": null,
   "id": "5aa8ac2c",
   "metadata": {},
   "outputs": [],
   "source": [
    "type(dataset)"
   ]
  },
  {
   "cell_type": "code",
   "execution_count": null,
   "id": "38adf288",
   "metadata": {},
   "outputs": [],
   "source": [
    "print(pd.DataFrame([[1, 2], [3, 4]], columns=[\"A\", \"B\"]))"
   ]
  },
  {
   "cell_type": "code",
   "execution_count": null,
   "id": "4c4beb13",
   "metadata": {},
   "outputs": [],
   "source": [
    "dataset.groupby([3]).count()"
   ]
  },
  {
   "cell_type": "code",
   "execution_count": null,
   "id": "2e63f307",
   "metadata": {},
   "outputs": [],
   "source": []
  }
 ],
 "metadata": {
  "kernelspec": {
   "display_name": "Python 3 (ipykernel)",
   "language": "python",
   "name": "python3"
  },
  "language_info": {
   "codemirror_mode": {
    "name": "ipython",
    "version": 3
   },
   "file_extension": ".py",
   "mimetype": "text/x-python",
   "name": "python",
   "nbconvert_exporter": "python",
   "pygments_lexer": "ipython3",
   "version": "3.10.12"
  }
 },
 "nbformat": 4,
 "nbformat_minor": 5
}
