{
 "cells": [
  {
   "cell_type": "code",
   "execution_count": 8,
   "metadata": {},
   "outputs": [],
   "source": [
    "from scipy.stats import binom\n",
    " "
   ]
  },
  {
   "cell_type": "markdown",
   "metadata": {},
   "source": [
    "binom.cdf(x,n,p) Função de Probabilidade de um valor acumulado em um número fixo de vezes\n",
    "binom.pmf(x,n,p) Probabilidade de pontual qualquer pra x em um número fixo de vezes\n",
    "binom.sf(x,n,p) Função de Probabilidade de um valor superior\n",
    "# Número de tentativas\n",
    "    n\n",
    "\n",
    "# Probabilidade de sucesso e uma única tentativa\n",
    "    p\n",
    "\n",
    "# Número de sucessos desejados\n",
    "    k "
   ]
  },
  {
   "cell_type": "code",
   "execution_count": 9,
   "metadata": {},
   "outputs": [
    {
     "name": "stdout",
     "output_type": "stream",
     "text": [
      "0.31249999999999983\n"
     ]
    }
   ],
   "source": [
    "##Suponha que estamos lançando uma moeda justa 5 vezes e queremos calcular a probabilidade de obter exatamente 3 caras.\n",
    "# Número de tentativas\n",
    "   # n = 5\n",
    "\n",
    "# Probabilidade de sucesso (cara)\n",
    "   # p = 0.5\n",
    "\n",
    "# Número de sucessos desejados\n",
    "   # k = 3\n"
   ]
  },
  {
   "cell_type": "code",
   "execution_count": null,
   "metadata": {},
   "outputs": [],
   "source": [
    "#A função binom.pmf é usada para calcular a probabilidade de obter um determinado número de sucessos em um número fixo de tentativas em uma distribuição binomial.\n",
    "especifico = binom.pmf(3,5,0.5)\n",
    "print (especifico)"
   ]
  },
  {
   "cell_type": "code",
   "execution_count": 11,
   "metadata": {},
   "outputs": [
    {
     "name": "stdout",
     "output_type": "stream",
     "text": [
      "0.8125\n"
     ]
    }
   ],
   "source": [
    "#A função binom.cdf(x, n, p) é utilizada para calcular a função de distribuição acumulada (CDF) de uma distribuição binomial. Em termos simples, a CDF em um determinado ponto x indica a probabilidade de obter um valor menor ou igual a x em uma distribuição binomial com parâmetros n (número de tentativas) e p (probabilidade de sucesso em uma única tentativa).\n",
    "acumulado=binom.cdf(3, 5, 0.5)\n",
    "print(acumulado)"
   ]
  },
  {
   "cell_type": "code",
   "execution_count": 12,
   "metadata": {},
   "outputs": [
    {
     "name": "stdout",
     "output_type": "stream",
     "text": [
      "0.1875\n"
     ]
    }
   ],
   "source": [
    "#Por exemplo, se quisermos calcular a probabilidade de obter mais de 3 sucessos em 5 tentativas em uma distribuição binomial, podemos usar binom.sf(3, 5, p)\n",
    "superior=binom.sf(3, 5, 0.5)\n",
    "print(superior)"
   ]
  },
  {
   "cell_type": "code",
   "execution_count": 23,
   "metadata": {},
   "outputs": [
    {
     "name": "stdout",
     "output_type": "stream",
     "text": [
      "0.2835120888943316\n",
      "0.9999911096078903\n",
      "0.05555563000753602\n"
     ]
    }
   ],
   "source": [
    "\"\"\"Exercício 1\n",
    "Cada amostra de ar tem 10% de chance de conter uma certa molécula rara. \n",
    "Considere que as amostras sejam independentes com relação à presença \n",
    "da molécula rara. Encontre a probabilidade de que nas próximas 18 \n",
    "amostras\"\"\"\n",
    "\n",
    "\"\"\"a)Exatamente 2 contenham a molécula rara.\"\"\"\n",
    "teste=binom.pmf(2, 18, 0.1)\n",
    "print(teste)\n",
    "\"\"\"b) No mínimo 4 amostras contenham a molécula rara. \"\"\"\n",
    "acumulado=binom.cdf(2, 18, 0.1)\n",
    "print(acumulado)\n",
    "\"\"\"c) De 3 a 7 amostras contenham a molécula rara. \"\"\"\n",
    "superior=binom.sf(3,15,0.1)\n",
    "print(superior)"
   ]
  },
  {
   "cell_type": "code",
   "execution_count": 24,
   "metadata": {},
   "outputs": [
    {
     "name": "stdout",
     "output_type": "stream",
     "text": [
      "0.7939152810515259\n"
     ]
    }
   ],
   "source": [
    "superior=binom.sf(2,20,0.2)\n",
    "print(superior)"
   ]
  }
 ],
 "metadata": {
  "kernelspec": {
   "display_name": "Python 3",
   "language": "python",
   "name": "python3"
  },
  "language_info": {
   "codemirror_mode": {
    "name": "ipython",
    "version": 3
   },
   "file_extension": ".py",
   "mimetype": "text/x-python",
   "name": "python",
   "nbconvert_exporter": "python",
   "pygments_lexer": "ipython3",
   "version": "3.10.12"
  }
 },
 "nbformat": 4,
 "nbformat_minor": 2
}
