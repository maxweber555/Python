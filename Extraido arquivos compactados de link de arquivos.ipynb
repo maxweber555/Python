{
 "cells": [
  {
   "cell_type": "code",
   "execution_count": null,
   "id": "3c2c4685",
   "metadata": {},
   "outputs": [],
   "source": [
    "import requests\n",
    "from zipfile import ZipFile\n",
    "from io import BytesIO \n",
    "from bs4 import BeautifulSoup\n",
    "import re"
   ]
  },
  {
   "cell_type": "code",
   "execution_count": null,
   "id": "a1d7e62b",
   "metadata": {},
   "outputs": [],
   "source": [
    "# Link dos arquivo compactados\n",
    "url2 = 'http://200.152.38.155/CNPJ/'"
   ]
  },
  {
   "cell_type": "code",
   "execution_count": null,
   "id": "09a88873",
   "metadata": {},
   "outputs": [],
   "source": [
    "# Relaizando o Request\n",
    "resposta2 = requests.get(url2)\n",
    "#resposta2.status_code"
   ]
  },
  {
   "cell_type": "code",
   "execution_count": null,
   "id": "f0b8215d",
   "metadata": {},
   "outputs": [],
   "source": [
    "conteudo2= BeautifulSoup(resposta2.text,'html.parser')\n",
    "#type(conteudo2)"
   ]
  },
  {
   "cell_type": "code",
   "execution_count": null,
   "id": "e47d6a2a",
   "metadata": {},
   "outputs": [],
   "source": [
    "#Lista Vazia\n",
    "links=[]"
   ]
  },
  {
   "cell_type": "code",
   "execution_count": null,
   "id": "e6b5648e",
   "metadata": {},
   "outputs": [],
   "source": [
    "#Encontra todos os links que termina com '.zip'\n",
    "zip_links=conteudo2.find_all('a',href=re.compile(r'\\.zip$'))"
   ]
  },
  {
   "cell_type": "code",
   "execution_count": null,
   "id": "374cfbf7",
   "metadata": {},
   "outputs": [],
   "source": [
    "#type(zip_links)"
   ]
  },
  {
   "cell_type": "code",
   "execution_count": null,
   "id": "09dc269f",
   "metadata": {},
   "outputs": [],
   "source": [
    "# Buscando os Link e incluindo em uma lista\n",
    "for link in zip_links:\n",
    "    zip_url = link.get('href')\n",
    "    links.append(zip_url)\n",
    "    print(f'Arquivo ZIP encontrado: {zip_url}')"
   ]
  },
  {
   "cell_type": "code",
   "execution_count": null,
   "id": "ced1c51c",
   "metadata": {},
   "outputs": [],
   "source": [
    "#print(links)"
   ]
  },
  {
   "cell_type": "code",
   "execution_count": null,
   "id": "8c1e0be6",
   "metadata": {},
   "outputs": [],
   "source": [
    "# Especifica o diretório de destino para a extração\n",
    "extract_path = 'extraidos'"
   ]
  },
  {
   "cell_type": "code",
   "execution_count": null,
   "id": "0c86d475",
   "metadata": {},
   "outputs": [],
   "source": [
    "# Pecorrendo lista de link e realizando a extração\n",
    "or i in links:\n",
    "    resposta= requests.get(url2+i)\n",
    "    zip_file = ZipFile(BytesIO(resposta.content))\n",
    "    zip_file.extractall(extract_path)\n",
    "    print('O arquivo extraido foi: '+i)"
   ]
  }
 ],
 "metadata": {
  "kernelspec": {
   "display_name": "Python 3 (ipykernel)",
   "language": "python",
   "name": "python3"
  },
  "language_info": {
   "codemirror_mode": {
    "name": "ipython",
    "version": 3
   },
   "file_extension": ".py",
   "mimetype": "text/x-python",
   "name": "python",
   "nbconvert_exporter": "python",
   "pygments_lexer": "ipython3",
   "version": "3.10.12"
  }
 },
 "nbformat": 4,
 "nbformat_minor": 5
}
